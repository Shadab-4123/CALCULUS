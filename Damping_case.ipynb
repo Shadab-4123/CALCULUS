{
  "nbformat": 4,
  "nbformat_minor": 0,
  "metadata": {
    "colab": {
      "provenance": [],
      "authorship_tag": "ABX9TyMZICJ6w76qImKcvRW1f/f2",
      "include_colab_link": true
    },
    "kernelspec": {
      "name": "python3",
      "display_name": "Python 3"
    },
    "language_info": {
      "name": "python"
    }
  },
  "cells": [
    {
      "cell_type": "markdown",
      "metadata": {
        "id": "view-in-github",
        "colab_type": "text"
      },
      "source": [
        "<a href=\"https://colab.research.google.com/github/Shadab-4123/CALCULUS/blob/main/Damping_case.ipynb\" target=\"_parent\"><img src=\"https://colab.research.google.com/assets/colab-badge.svg\" alt=\"Open In Colab\"/></a>"
      ]
    },
    {
      "cell_type": "code",
      "source": [
        "import math\n"
      ],
      "metadata": {
        "id": "A0ECCZ4CjkOE"
      },
      "execution_count": 3,
      "outputs": []
    },
    {
      "cell_type": "code",
      "execution_count": null,
      "metadata": {
        "colab": {
          "base_uri": "https://localhost:8080/"
        },
        "id": "39pzcqQXi_cw",
        "outputId": "bd683419-0350-4c62-98fc-29bd25a46a7a"
      },
      "outputs": [
        {
          "name": "stdout",
          "output_type": "stream",
          "text": [
            "enter a num:1\n",
            "enter a num:2\n",
            "enter a num:1\n",
            "enter value at t=0:1\n",
            "enter value of derivative of x at t=0:1\n"
          ]
        }
      ],
      "source": [
        "\n",
        "\n",
        "a=int(input('enter a num:'))\n",
        "b=int(input('enter a num:'))\n",
        "c=int(input('enter a num:'))\n",
        "x0=int(input('enter value at t=0:'))\n",
        "v0=int(input('enter value of derivative of x at t=0:'))\n",
        "\n"
      ]
    },
    {
      "cell_type": "code",
      "source": [
        "a=4\n",
        "b=2\n",
        "c=1\n",
        "x0=1\n",
        "v0=1"
      ],
      "metadata": {
        "id": "PMMh6UCSgoi1"
      },
      "execution_count": 10,
      "outputs": []
    },
    {
      "cell_type": "code",
      "source": [
        "tlist = [i/100 for i in range(1001)]      \n",
        "d=(b**2-4*a*c)                     # discriminant of the quadratic equation\n",
        "if d>0:\n",
        "  value = 'over damped'\n",
        "elif d == 0:\n",
        "  value = 'critically damped'\n",
        "else:\n",
        "  value = 'under damped'    \n",
        "  \n",
        "# print(value)\n",
        "# print(tlist)"
      ],
      "metadata": {
        "id": "l0DZwvnUqn9I"
      },
      "execution_count": 11,
      "outputs": []
    },
    {
      "cell_type": "code",
      "source": [
        "lmda1=(-b-(b**2-4*a*c)**0.5)/2*a         # root of the quadratic equation \n",
        "lmda2=(-b+(b**2-4*a*c)**0.5)/2*a         # root of the quadratic equation\n",
        "if lmda1!=lmda2:\n",
        "  d1=(v0-lmda2*x0)/(lmda1-lmda2)         # coefficient for lmda1\n",
        "  d2=(v0-lmda1*x0)/(lmda2-lmda1)         # coefficient for lmda2\n",
        "else:\n",
        "  d1=x0\n",
        "  d2=v0-lmda2*x0\n",
        "alpha=-b/2*a                             \n",
        "beta=abs((b**2/4*a**2-c/a))**0.5        \n"
      ],
      "metadata": {
        "id": "6V2TZmOZoLIw"
      },
      "execution_count": 12,
      "outputs": []
    },
    {
      "cell_type": "code",
      "source": [
        "\n",
        "if value == 'over damped':\n",
        "  print('over damped')\n",
        "  xlist = []\n",
        "  for t in tlist:\n",
        "    x=d1*math.exp(lmda1*t)+d2*math.exp(lmda2*t)\n",
        "    xlist.append(x)\n",
        "    # print(x)\n",
        "  # return xlist\n",
        "elif value == 'critically damped':\n",
        "  print('critically damped')\n",
        "  xlist = []\n",
        "  for t in tlist:\n",
        "    x=(x0+(v0-lmda1*x0)*t)*math.exp(lmda1*t)  \n",
        "    xlist.append(x)\n",
        "    # print(x)\n",
        "  # return xlist\n",
        "else:\n",
        "  xlist = []\n",
        "  print('under damped')\n",
        "  for t in tlist:\n",
        "    x=math.exp(alpha*t)*(x0*math.cos(beta*t)+(v0+alpha*x0)*math.sin(beta*t)/beta)\n",
        "    xlist.append(x)\n",
        "\n",
        "# print(xlist)\n",
        "    # print(x) \n",
        "  # return xlist   \n",
        "# value=value_lst()\n",
        "# print(value)\n",
        "# print(xlist)"
      ],
      "metadata": {
        "colab": {
          "base_uri": "https://localhost:8080/"
        },
        "id": "aSog3qDMkVhy",
        "outputId": "b7af0dc9-5d37-49b3-8e9e-f4ea9779249e"
      },
      "execution_count": 13,
      "outputs": [
        {
          "output_type": "stream",
          "name": "stdout",
          "text": [
            "under damped\n"
          ]
        }
      ]
    },
    {
      "cell_type": "code",
      "source": [
        "import matplotlib.pyplot as plt\n",
        "plt.plot(tlist, xlist)"
      ],
      "metadata": {
        "colab": {
          "base_uri": "https://localhost:8080/",
          "height": 282
        },
        "id": "X34Mndn6gEJo",
        "outputId": "8f109969-bb56-4939-dc5f-e146efdddb2a"
      },
      "execution_count": 14,
      "outputs": [
        {
          "output_type": "execute_result",
          "data": {
            "text/plain": [
              "[<matplotlib.lines.Line2D at 0x7fdd29cbad60>]"
            ]
          },
          "metadata": {},
          "execution_count": 14
        },
        {
          "output_type": "display_data",
          "data": {
            "text/plain": [
              "<Figure size 432x288 with 1 Axes>"
            ],
            "image/png": "[encoded data removed]"
          },
          "metadata": {
            "needs_background": "light"
          }
        }
      ]
    }
  ]
}